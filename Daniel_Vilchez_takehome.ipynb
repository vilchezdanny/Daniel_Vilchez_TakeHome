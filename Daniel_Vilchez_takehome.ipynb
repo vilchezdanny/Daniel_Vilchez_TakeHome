{
 "cells": [
  {
   "cell_type": "markdown",
   "id": "5ed8bcef",
   "metadata": {},
   "source": [
    "# Using Craigslist Data to Build a Predictive Model for Car Prices\n",
    "\n",
    "In this project, we will explore car data scraped from [Craigslist](https://www.craigslist.org/) to find meaningful insights about the craigslist car market. We will then use these insights to construct a predictive model to predict the price listing.\n",
    "\n",
    "Evaluating the car market on craigslist is a challenge, and there are different factors that can make it difficult to predict the price of a car. For example, there may be regional differences that can make it undesirable to purchase a car in a specific area. Using the data provided, we will clarify the most impactful factors that can affect the price of a used car.\n",
    "\n",
    "### Summary of Results\n",
    "- Since the year 2000 the price of cars have soared.\n",
    "- The higher the odemeter reading, the lower the price.\n",
    "- 8 cylinder cars are the most expensive gas powered cars, but are cheaper than electric cars.\n",
    "- Wyoming has the highest average price for cars. The northwest in general has higher car prices than the rest of the country.\n",
    "\n",
    "\n",
    "\n",
    "## Preparing the Data for Exploration and Modeling\n",
    "\n",
    "Before we can begin exploring the data, we need to see how the data is structured and prepare it for analysis. In this project, we will use the following python libraries:"
   ]
  },
  {
   "cell_type": "code",
   "execution_count": 1,
   "id": "8ba7fc4e",
   "metadata": {},
   "outputs": [],
   "source": [
    "import pandas as pd\n",
    "import numpy as np\n",
    "from data_processing import * # stores functions used to clean data\n",
    "\n",
    "import matplotlib.pyplot as plt\n",
    "import plotly.express as px\n",
    "import matplotlib.style as style\n",
    "from plot import * # stores functions used to plot data\n",
    "\n",
    "from sklearn.linear_model import LinearRegression\n",
    "from sklearn.model_selection import train_test_split\n",
    "from sklearn.metrics import mean_squared_error\n",
    "\n",
    "\n",
    "# this library is for readability of code outputs inside jupyter notebook\n",
    "from IPython.display import display_html\n",
    "\n",
    "# %matplotlib inline"
   ]
  },
  {
   "cell_type": "code",
   "execution_count": 2,
   "id": "68ecf7c3",
   "metadata": {},
   "outputs": [
    {
     "data": {
      "text/html": [
       "<div>\n",
       "<style scoped>\n",
       "    .dataframe tbody tr th:only-of-type {\n",
       "        vertical-align: middle;\n",
       "    }\n",
       "\n",
       "    .dataframe tbody tr th {\n",
       "        vertical-align: top;\n",
       "    }\n",
       "\n",
       "    .dataframe thead th {\n",
       "        text-align: right;\n",
       "    }\n",
       "</style>\n",
       "<table border=\"1\" class=\"dataframe\">\n",
       "  <thead>\n",
       "    <tr style=\"text-align: right;\">\n",
       "      <th></th>\n",
       "      <th>Unnamed: 0</th>\n",
       "      <th>id</th>\n",
       "      <th>url</th>\n",
       "      <th>region</th>\n",
       "      <th>region_url</th>\n",
       "      <th>price</th>\n",
       "      <th>year</th>\n",
       "      <th>manufacturer</th>\n",
       "      <th>model</th>\n",
       "      <th>condition</th>\n",
       "      <th>...</th>\n",
       "      <th>drive</th>\n",
       "      <th>size</th>\n",
       "      <th>type</th>\n",
       "      <th>paint_color</th>\n",
       "      <th>image_url</th>\n",
       "      <th>description</th>\n",
       "      <th>county</th>\n",
       "      <th>state</th>\n",
       "      <th>lat</th>\n",
       "      <th>long</th>\n",
       "    </tr>\n",
       "  </thead>\n",
       "  <tbody>\n",
       "    <tr>\n",
       "      <th>0</th>\n",
       "      <td>95499</td>\n",
       "      <td>7088111186</td>\n",
       "      <td>https://mobile.craigslist.org/ctd/d/mobile-201...</td>\n",
       "      <td>mobile</td>\n",
       "      <td>https://mobile.craigslist.org</td>\n",
       "      <td>13950</td>\n",
       "      <td>2011.0</td>\n",
       "      <td>jeep</td>\n",
       "      <td>grand cherokee</td>\n",
       "      <td>excellent</td>\n",
       "      <td>...</td>\n",
       "      <td>rwd</td>\n",
       "      <td>NaN</td>\n",
       "      <td>SUV</td>\n",
       "      <td>NaN</td>\n",
       "      <td>https://images.craigslist.org/00g0g_hyUIVlBkjs...</td>\n",
       "      <td>2011 *** Jeep Grand Cherokee Limited SUV ***  ...</td>\n",
       "      <td>NaN</td>\n",
       "      <td>al</td>\n",
       "      <td>30.6869</td>\n",
       "      <td>-88.2162</td>\n",
       "    </tr>\n",
       "    <tr>\n",
       "      <th>1</th>\n",
       "      <td>218089</td>\n",
       "      <td>7077594766</td>\n",
       "      <td>https://treasure.craigslist.org/ctd/d/melbourn...</td>\n",
       "      <td>treasure coast</td>\n",
       "      <td>https://treasure.craigslist.org</td>\n",
       "      <td>1000</td>\n",
       "      <td>2013.0</td>\n",
       "      <td>kia</td>\n",
       "      <td>optima</td>\n",
       "      <td>NaN</td>\n",
       "      <td>...</td>\n",
       "      <td>NaN</td>\n",
       "      <td>NaN</td>\n",
       "      <td>NaN</td>\n",
       "      <td>NaN</td>\n",
       "      <td>https://images.craigslist.org/01111_i0reK48zZ9...</td>\n",
       "      <td>TAX TIME SPECIAL!!!! 30TH YEAR ANNIVERSARY!!!!...</td>\n",
       "      <td>NaN</td>\n",
       "      <td>fl</td>\n",
       "      <td>28.1384</td>\n",
       "      <td>-80.6524</td>\n",
       "    </tr>\n",
       "    <tr>\n",
       "      <th>2</th>\n",
       "      <td>112125</td>\n",
       "      <td>7091613207</td>\n",
       "      <td>https://lexington.craigslist.org/ctd/d/finchvi...</td>\n",
       "      <td>lexington</td>\n",
       "      <td>https://lexington.craigslist.org</td>\n",
       "      <td>8490</td>\n",
       "      <td>2009.0</td>\n",
       "      <td>bmw</td>\n",
       "      <td>535xi</td>\n",
       "      <td>like new</td>\n",
       "      <td>...</td>\n",
       "      <td>4wd</td>\n",
       "      <td>full-size</td>\n",
       "      <td>sedan</td>\n",
       "      <td>blue</td>\n",
       "      <td>https://images.craigslist.org/00U0U_1A4UQ6Yjhc...</td>\n",
       "      <td>2009 535xi BMW, All Wheel Drive, TanLeather In...</td>\n",
       "      <td>NaN</td>\n",
       "      <td>ky</td>\n",
       "      <td>38.0970</td>\n",
       "      <td>-85.3645</td>\n",
       "    </tr>\n",
       "    <tr>\n",
       "      <th>3</th>\n",
       "      <td>150313</td>\n",
       "      <td>7091696550</td>\n",
       "      <td>https://orlando.craigslist.org/ctd/d/tampa-201...</td>\n",
       "      <td>orlando</td>\n",
       "      <td>https://orlando.craigslist.org</td>\n",
       "      <td>36998</td>\n",
       "      <td>2017.0</td>\n",
       "      <td>ford</td>\n",
       "      <td>f-450</td>\n",
       "      <td>NaN</td>\n",
       "      <td>...</td>\n",
       "      <td>fwd</td>\n",
       "      <td>NaN</td>\n",
       "      <td>other</td>\n",
       "      <td>white</td>\n",
       "      <td>https://images.craigslist.org/00q0q_9aXLEGf6Tg...</td>\n",
       "      <td>2017 Ford F-450 Super Duty 4X2 4dr Crew Cab 17...</td>\n",
       "      <td>NaN</td>\n",
       "      <td>fl</td>\n",
       "      <td>28.0157</td>\n",
       "      <td>-82.4598</td>\n",
       "    </tr>\n",
       "    <tr>\n",
       "      <th>4</th>\n",
       "      <td>428076</td>\n",
       "      <td>7086364258</td>\n",
       "      <td>https://tulsa.craigslist.org/ctd/d/tulsa-2018-...</td>\n",
       "      <td>tulsa</td>\n",
       "      <td>https://tulsa.craigslist.org</td>\n",
       "      <td>40044</td>\n",
       "      <td>2018.0</td>\n",
       "      <td>chevrolet</td>\n",
       "      <td>silverado 1500</td>\n",
       "      <td>NaN</td>\n",
       "      <td>...</td>\n",
       "      <td>4wd</td>\n",
       "      <td>NaN</td>\n",
       "      <td>NaN</td>\n",
       "      <td>white</td>\n",
       "      <td>https://images.craigslist.org/00707_j4fmGFUS0C...</td>\n",
       "      <td>Mark Allen Chevrolet address:    8300 New Sapu...</td>\n",
       "      <td>NaN</td>\n",
       "      <td>ok</td>\n",
       "      <td>36.0446</td>\n",
       "      <td>-96.0783</td>\n",
       "    </tr>\n",
       "  </tbody>\n",
       "</table>\n",
       "<p>5 rows × 26 columns</p>\n",
       "</div>"
      ],
      "text/plain": [
       "   Unnamed: 0          id                                                url  \\\n",
       "0       95499  7088111186  https://mobile.craigslist.org/ctd/d/mobile-201...   \n",
       "1      218089  7077594766  https://treasure.craigslist.org/ctd/d/melbourn...   \n",
       "2      112125  7091613207  https://lexington.craigslist.org/ctd/d/finchvi...   \n",
       "3      150313  7091696550  https://orlando.craigslist.org/ctd/d/tampa-201...   \n",
       "4      428076  7086364258  https://tulsa.craigslist.org/ctd/d/tulsa-2018-...   \n",
       "\n",
       "           region                        region_url  price    year  \\\n",
       "0          mobile     https://mobile.craigslist.org  13950  2011.0   \n",
       "1  treasure coast   https://treasure.craigslist.org   1000  2013.0   \n",
       "2       lexington  https://lexington.craigslist.org   8490  2009.0   \n",
       "3         orlando    https://orlando.craigslist.org  36998  2017.0   \n",
       "4           tulsa      https://tulsa.craigslist.org  40044  2018.0   \n",
       "\n",
       "  manufacturer           model  condition  ... drive       size   type  \\\n",
       "0         jeep  grand cherokee  excellent  ...   rwd        NaN    SUV   \n",
       "1          kia          optima        NaN  ...   NaN        NaN    NaN   \n",
       "2          bmw           535xi   like new  ...   4wd  full-size  sedan   \n",
       "3         ford           f-450        NaN  ...   fwd        NaN  other   \n",
       "4    chevrolet  silverado 1500        NaN  ...   4wd        NaN    NaN   \n",
       "\n",
       "  paint_color                                          image_url  \\\n",
       "0         NaN  https://images.craigslist.org/00g0g_hyUIVlBkjs...   \n",
       "1         NaN  https://images.craigslist.org/01111_i0reK48zZ9...   \n",
       "2        blue  https://images.craigslist.org/00U0U_1A4UQ6Yjhc...   \n",
       "3       white  https://images.craigslist.org/00q0q_9aXLEGf6Tg...   \n",
       "4       white  https://images.craigslist.org/00707_j4fmGFUS0C...   \n",
       "\n",
       "                                         description county state      lat  \\\n",
       "0  2011 *** Jeep Grand Cherokee Limited SUV ***  ...    NaN    al  30.6869   \n",
       "1  TAX TIME SPECIAL!!!! 30TH YEAR ANNIVERSARY!!!!...    NaN    fl  28.1384   \n",
       "2  2009 535xi BMW, All Wheel Drive, TanLeather In...    NaN    ky  38.0970   \n",
       "3  2017 Ford F-450 Super Duty 4X2 4dr Crew Cab 17...    NaN    fl  28.0157   \n",
       "4  Mark Allen Chevrolet address:    8300 New Sapu...    NaN    ok  36.0446   \n",
       "\n",
       "      long  \n",
       "0 -88.2162  \n",
       "1 -80.6524  \n",
       "2 -85.3645  \n",
       "3 -82.4598  \n",
       "4 -96.0783  \n",
       "\n",
       "[5 rows x 26 columns]"
      ]
     },
     "execution_count": 2,
     "metadata": {},
     "output_type": "execute_result"
    }
   ],
   "source": [
    "craigslist_raw = pd.read_csv('vehicles_sampled.csv')\n",
    "craigslist_raw.head()"
   ]
  },
  {
   "cell_type": "markdown",
   "id": "cadd9271",
   "metadata": {},
   "source": [
    "Before cleaning the data, let's answer the following questions for each column:\n",
    "- How many missing values are there?\n",
    "- What percent of the data is missing?\n",
    "- What are the data types?"
   ]
  },
  {
   "cell_type": "code",
   "execution_count": 3,
   "id": "2bf5a627",
   "metadata": {},
   "outputs": [
    {
     "data": {
      "text/html": [
       "<div>\n",
       "<style scoped>\n",
       "    .dataframe tbody tr th:only-of-type {\n",
       "        vertical-align: middle;\n",
       "    }\n",
       "\n",
       "    .dataframe tbody tr th {\n",
       "        vertical-align: top;\n",
       "    }\n",
       "\n",
       "    .dataframe thead th {\n",
       "        text-align: right;\n",
       "    }\n",
       "</style>\n",
       "<table border=\"1\" class=\"dataframe\">\n",
       "  <thead>\n",
       "    <tr style=\"text-align: right;\">\n",
       "      <th></th>\n",
       "      <th>null_counts</th>\n",
       "      <th>null_pct</th>\n",
       "      <th>data_types</th>\n",
       "    </tr>\n",
       "  </thead>\n",
       "  <tbody>\n",
       "    <tr>\n",
       "      <th>Unnamed: 0</th>\n",
       "      <td>0</td>\n",
       "      <td>0%</td>\n",
       "      <td>int64</td>\n",
       "    </tr>\n",
       "    <tr>\n",
       "      <th>url</th>\n",
       "      <td>0</td>\n",
       "      <td>0%</td>\n",
       "      <td>object</td>\n",
       "    </tr>\n",
       "    <tr>\n",
       "      <th>state</th>\n",
       "      <td>0</td>\n",
       "      <td>0%</td>\n",
       "      <td>object</td>\n",
       "    </tr>\n",
       "    <tr>\n",
       "      <th>region_url</th>\n",
       "      <td>0</td>\n",
       "      <td>0%</td>\n",
       "      <td>object</td>\n",
       "    </tr>\n",
       "    <tr>\n",
       "      <th>description</th>\n",
       "      <td>0</td>\n",
       "      <td>0%</td>\n",
       "      <td>object</td>\n",
       "    </tr>\n",
       "    <tr>\n",
       "      <th>region</th>\n",
       "      <td>0</td>\n",
       "      <td>0%</td>\n",
       "      <td>object</td>\n",
       "    </tr>\n",
       "    <tr>\n",
       "      <th>price</th>\n",
       "      <td>0</td>\n",
       "      <td>0%</td>\n",
       "      <td>int64</td>\n",
       "    </tr>\n",
       "    <tr>\n",
       "      <th>id</th>\n",
       "      <td>0</td>\n",
       "      <td>0%</td>\n",
       "      <td>int64</td>\n",
       "    </tr>\n",
       "    <tr>\n",
       "      <th>image_url</th>\n",
       "      <td>0</td>\n",
       "      <td>0%</td>\n",
       "      <td>object</td>\n",
       "    </tr>\n",
       "    <tr>\n",
       "      <th>year</th>\n",
       "      <td>21</td>\n",
       "      <td>0%</td>\n",
       "      <td>float64</td>\n",
       "    </tr>\n",
       "    <tr>\n",
       "      <th>title_status</th>\n",
       "      <td>54</td>\n",
       "      <td>1%</td>\n",
       "      <td>object</td>\n",
       "    </tr>\n",
       "    <tr>\n",
       "      <th>fuel</th>\n",
       "      <td>76</td>\n",
       "      <td>1%</td>\n",
       "      <td>object</td>\n",
       "    </tr>\n",
       "    <tr>\n",
       "      <th>transmission</th>\n",
       "      <td>78</td>\n",
       "      <td>1%</td>\n",
       "      <td>object</td>\n",
       "    </tr>\n",
       "    <tr>\n",
       "      <th>model</th>\n",
       "      <td>165</td>\n",
       "      <td>2%</td>\n",
       "      <td>object</td>\n",
       "    </tr>\n",
       "    <tr>\n",
       "      <th>long</th>\n",
       "      <td>178</td>\n",
       "      <td>2%</td>\n",
       "      <td>float64</td>\n",
       "    </tr>\n",
       "    <tr>\n",
       "      <th>lat</th>\n",
       "      <td>178</td>\n",
       "      <td>2%</td>\n",
       "      <td>float64</td>\n",
       "    </tr>\n",
       "    <tr>\n",
       "      <th>manufacturer</th>\n",
       "      <td>420</td>\n",
       "      <td>4%</td>\n",
       "      <td>object</td>\n",
       "    </tr>\n",
       "    <tr>\n",
       "      <th>odometer</th>\n",
       "      <td>1983</td>\n",
       "      <td>18%</td>\n",
       "      <td>float64</td>\n",
       "    </tr>\n",
       "    <tr>\n",
       "      <th>type</th>\n",
       "      <td>2954</td>\n",
       "      <td>27%</td>\n",
       "      <td>object</td>\n",
       "    </tr>\n",
       "    <tr>\n",
       "      <th>drive</th>\n",
       "      <td>3140</td>\n",
       "      <td>29%</td>\n",
       "      <td>object</td>\n",
       "    </tr>\n",
       "    <tr>\n",
       "      <th>paint_color</th>\n",
       "      <td>3450</td>\n",
       "      <td>32%</td>\n",
       "      <td>object</td>\n",
       "    </tr>\n",
       "    <tr>\n",
       "      <th>cylinders</th>\n",
       "      <td>4387</td>\n",
       "      <td>41%</td>\n",
       "      <td>object</td>\n",
       "    </tr>\n",
       "    <tr>\n",
       "      <th>vin</th>\n",
       "      <td>4490</td>\n",
       "      <td>42%</td>\n",
       "      <td>object</td>\n",
       "    </tr>\n",
       "    <tr>\n",
       "      <th>condition</th>\n",
       "      <td>4660</td>\n",
       "      <td>43%</td>\n",
       "      <td>object</td>\n",
       "    </tr>\n",
       "    <tr>\n",
       "      <th>size</th>\n",
       "      <td>7453</td>\n",
       "      <td>69%</td>\n",
       "      <td>object</td>\n",
       "    </tr>\n",
       "    <tr>\n",
       "      <th>county</th>\n",
       "      <td>10795</td>\n",
       "      <td>100%</td>\n",
       "      <td>float64</td>\n",
       "    </tr>\n",
       "  </tbody>\n",
       "</table>\n",
       "</div>"
      ],
      "text/plain": [
       "              null_counts null_pct data_types\n",
       "Unnamed: 0              0       0%      int64\n",
       "url                     0       0%     object\n",
       "state                   0       0%     object\n",
       "region_url              0       0%     object\n",
       "description             0       0%     object\n",
       "region                  0       0%     object\n",
       "price                   0       0%      int64\n",
       "id                      0       0%      int64\n",
       "image_url               0       0%     object\n",
       "year                   21       0%    float64\n",
       "title_status           54       1%     object\n",
       "fuel                   76       1%     object\n",
       "transmission           78       1%     object\n",
       "model                 165       2%     object\n",
       "long                  178       2%    float64\n",
       "lat                   178       2%    float64\n",
       "manufacturer          420       4%     object\n",
       "odometer             1983      18%    float64\n",
       "type                 2954      27%     object\n",
       "drive                3140      29%     object\n",
       "paint_color          3450      32%     object\n",
       "cylinders            4387      41%     object\n",
       "vin                  4490      42%     object\n",
       "condition            4660      43%     object\n",
       "size                 7453      69%     object\n",
       "county              10795     100%    float64"
      ]
     },
     "execution_count": 3,
     "metadata": {},
     "output_type": "execute_result"
    }
   ],
   "source": [
    "craigslist_raw_null_values = explore_null_values(craigslist_raw)\n",
    "craigslist_raw_null_values.sort_values(by=\"null_counts\")"
   ]
  },
  {
   "cell_type": "markdown",
   "id": "42613719",
   "metadata": {},
   "source": [
    "### Cleaning the data\n",
    "\n",
    "#### Removing Unnecessary Columns\n",
    "Given the information above in conjuction with the data dictionary given, the following columns are not useful for the purpose of this project:\n",
    "- `Unnamed: 0`\n",
    "- `id`\n",
    "- `url`\n",
    "- `region_url`\n",
    "- `title_status`\n",
    "- `model`\n",
    "- `vin`\n",
    "- `paint_color`\n",
    "- `lat`, `long`, and `region` will be removed because we will use the `state` column.\n",
    "\n",
    "\n",
    "#### Dealing with Missing Values\n",
    "\n",
    "The following columns have too many missing values and would be too difficult to search for in the `description` column:\n",
    "- `condition`\n",
    "- `size`\n",
    "- `county`\n",
    "\n",
    "These columns will be dropped along with the unnecessary columns.\n",
    "\n",
    "##### Dropping Rows with Small Amount of Missing Values\n",
    "\n",
    "For the following columns, we will drop the rows with missing values since they amount to less than five percent of the total data:\n",
    "- `fuel`\n",
    "- `manufacturer`\n",
    "- `model`\n",
    "- `transmission`\n",
    "\n",
    "##### Searching the Description Column for Missing Values\n",
    "\n",
    "For the following columns, we will use regular expressions to search the `description` column to fill the missing values:\n",
    "- `year`\n",
    "- `cylinders`\n",
    "- `type`\n",
    "\n",
    "After searching the `description` column, the column will be dropped as it will no longer be needed."
   ]
  },
  {
   "cell_type": "code",
   "execution_count": 4,
   "id": "751933b1",
   "metadata": {},
   "outputs": [],
   "source": [
    "craigslist = craigslist_raw.copy()\n",
    "\n",
    "drop_unnecessary_columns(craigslist)\n",
    "\n",
    "drop_low_pct_missing_values(craigslist)\n",
    "\n",
    "clean_year_column(craigslist)\n",
    "\n",
    "clean_cylinder_column(craigslist)\n",
    "\n",
    "clean_type_column(craigslist)\n",
    "\n",
    "craigslist.drop(columns=[\"description\"], inplace=True)"
   ]
  },
  {
   "cell_type": "markdown",
   "id": "8ed8940a",
   "metadata": {},
   "source": [
    "Let's see what the data looks like after removing the unnecessary columns and filling in the missing values using the `description` column."
   ]
  },
  {
   "cell_type": "code",
   "execution_count": 5,
   "id": "3d6ef43b",
   "metadata": {},
   "outputs": [
    {
     "data": {
      "text/html": [
       "<style type=\"text/css\">\n",
       "</style>\n",
       "<table id=\"T_8bf16\" style='display:inline'>\n",
       "  <caption>craigslist_raw_null_values</caption>\n",
       "  <thead>\n",
       "    <tr>\n",
       "      <th class=\"blank level0\" >&nbsp;</th>\n",
       "      <th id=\"T_8bf16_level0_col0\" class=\"col_heading level0 col0\" >null_counts</th>\n",
       "      <th id=\"T_8bf16_level0_col1\" class=\"col_heading level0 col1\" >null_pct</th>\n",
       "      <th id=\"T_8bf16_level0_col2\" class=\"col_heading level0 col2\" >data_types</th>\n",
       "    </tr>\n",
       "  </thead>\n",
       "  <tbody>\n",
       "    <tr>\n",
       "      <th id=\"T_8bf16_level0_row0\" class=\"row_heading level0 row0\" >cylinders</th>\n",
       "      <td id=\"T_8bf16_row0_col0\" class=\"data row0 col0\" >4387</td>\n",
       "      <td id=\"T_8bf16_row0_col1\" class=\"data row0 col1\" >41%</td>\n",
       "      <td id=\"T_8bf16_row0_col2\" class=\"data row0 col2\" >object</td>\n",
       "    </tr>\n",
       "    <tr>\n",
       "      <th id=\"T_8bf16_level0_row1\" class=\"row_heading level0 row1\" >drive</th>\n",
       "      <td id=\"T_8bf16_row1_col0\" class=\"data row1 col0\" >3140</td>\n",
       "      <td id=\"T_8bf16_row1_col1\" class=\"data row1 col1\" >29%</td>\n",
       "      <td id=\"T_8bf16_row1_col2\" class=\"data row1 col2\" >object</td>\n",
       "    </tr>\n",
       "    <tr>\n",
       "      <th id=\"T_8bf16_level0_row2\" class=\"row_heading level0 row2\" >fuel</th>\n",
       "      <td id=\"T_8bf16_row2_col0\" class=\"data row2 col0\" >76</td>\n",
       "      <td id=\"T_8bf16_row2_col1\" class=\"data row2 col1\" >1%</td>\n",
       "      <td id=\"T_8bf16_row2_col2\" class=\"data row2 col2\" >object</td>\n",
       "    </tr>\n",
       "    <tr>\n",
       "      <th id=\"T_8bf16_level0_row3\" class=\"row_heading level0 row3\" >manufacturer</th>\n",
       "      <td id=\"T_8bf16_row3_col0\" class=\"data row3 col0\" >420</td>\n",
       "      <td id=\"T_8bf16_row3_col1\" class=\"data row3 col1\" >4%</td>\n",
       "      <td id=\"T_8bf16_row3_col2\" class=\"data row3 col2\" >object</td>\n",
       "    </tr>\n",
       "    <tr>\n",
       "      <th id=\"T_8bf16_level0_row4\" class=\"row_heading level0 row4\" >odometer</th>\n",
       "      <td id=\"T_8bf16_row4_col0\" class=\"data row4 col0\" >1983</td>\n",
       "      <td id=\"T_8bf16_row4_col1\" class=\"data row4 col1\" >18%</td>\n",
       "      <td id=\"T_8bf16_row4_col2\" class=\"data row4 col2\" >float64</td>\n",
       "    </tr>\n",
       "    <tr>\n",
       "      <th id=\"T_8bf16_level0_row5\" class=\"row_heading level0 row5\" >price</th>\n",
       "      <td id=\"T_8bf16_row5_col0\" class=\"data row5 col0\" >0</td>\n",
       "      <td id=\"T_8bf16_row5_col1\" class=\"data row5 col1\" >0%</td>\n",
       "      <td id=\"T_8bf16_row5_col2\" class=\"data row5 col2\" >int64</td>\n",
       "    </tr>\n",
       "    <tr>\n",
       "      <th id=\"T_8bf16_level0_row6\" class=\"row_heading level0 row6\" >state</th>\n",
       "      <td id=\"T_8bf16_row6_col0\" class=\"data row6 col0\" >0</td>\n",
       "      <td id=\"T_8bf16_row6_col1\" class=\"data row6 col1\" >0%</td>\n",
       "      <td id=\"T_8bf16_row6_col2\" class=\"data row6 col2\" >object</td>\n",
       "    </tr>\n",
       "    <tr>\n",
       "      <th id=\"T_8bf16_level0_row7\" class=\"row_heading level0 row7\" >transmission</th>\n",
       "      <td id=\"T_8bf16_row7_col0\" class=\"data row7 col0\" >78</td>\n",
       "      <td id=\"T_8bf16_row7_col1\" class=\"data row7 col1\" >1%</td>\n",
       "      <td id=\"T_8bf16_row7_col2\" class=\"data row7 col2\" >object</td>\n",
       "    </tr>\n",
       "    <tr>\n",
       "      <th id=\"T_8bf16_level0_row8\" class=\"row_heading level0 row8\" >type</th>\n",
       "      <td id=\"T_8bf16_row8_col0\" class=\"data row8 col0\" >2954</td>\n",
       "      <td id=\"T_8bf16_row8_col1\" class=\"data row8 col1\" >27%</td>\n",
       "      <td id=\"T_8bf16_row8_col2\" class=\"data row8 col2\" >object</td>\n",
       "    </tr>\n",
       "    <tr>\n",
       "      <th id=\"T_8bf16_level0_row9\" class=\"row_heading level0 row9\" >year</th>\n",
       "      <td id=\"T_8bf16_row9_col0\" class=\"data row9 col0\" >21</td>\n",
       "      <td id=\"T_8bf16_row9_col1\" class=\"data row9 col1\" >0%</td>\n",
       "      <td id=\"T_8bf16_row9_col2\" class=\"data row9 col2\" >float64</td>\n",
       "    </tr>\n",
       "  </tbody>\n",
       "</table>\n",
       "<style type=\"text/css\">\n",
       "</style>\n",
       "<table id=\"T_251d7\" style='display:inline'>\n",
       "  <caption>craigslist_null_values</caption>\n",
       "  <thead>\n",
       "    <tr>\n",
       "      <th class=\"blank level0\" >&nbsp;</th>\n",
       "      <th id=\"T_251d7_level0_col0\" class=\"col_heading level0 col0\" >null_counts</th>\n",
       "      <th id=\"T_251d7_level0_col1\" class=\"col_heading level0 col1\" >null_pct</th>\n",
       "      <th id=\"T_251d7_level0_col2\" class=\"col_heading level0 col2\" >data_types</th>\n",
       "    </tr>\n",
       "  </thead>\n",
       "  <tbody>\n",
       "    <tr>\n",
       "      <th id=\"T_251d7_level0_row0\" class=\"row_heading level0 row0\" >cylinders</th>\n",
       "      <td id=\"T_251d7_row0_col0\" class=\"data row0 col0\" >2748</td>\n",
       "      <td id=\"T_251d7_row0_col1\" class=\"data row0 col1\" >27%</td>\n",
       "      <td id=\"T_251d7_row0_col2\" class=\"data row0 col2\" >object</td>\n",
       "    </tr>\n",
       "    <tr>\n",
       "      <th id=\"T_251d7_level0_row1\" class=\"row_heading level0 row1\" >drive</th>\n",
       "      <td id=\"T_251d7_row1_col0\" class=\"data row1 col0\" >2917</td>\n",
       "      <td id=\"T_251d7_row1_col1\" class=\"data row1 col1\" >29%</td>\n",
       "      <td id=\"T_251d7_row1_col2\" class=\"data row1 col2\" >object</td>\n",
       "    </tr>\n",
       "    <tr>\n",
       "      <th id=\"T_251d7_level0_row2\" class=\"row_heading level0 row2\" >fuel</th>\n",
       "      <td id=\"T_251d7_row2_col0\" class=\"data row2 col0\" >0</td>\n",
       "      <td id=\"T_251d7_row2_col1\" class=\"data row2 col1\" >0%</td>\n",
       "      <td id=\"T_251d7_row2_col2\" class=\"data row2 col2\" >object</td>\n",
       "    </tr>\n",
       "    <tr>\n",
       "      <th id=\"T_251d7_level0_row3\" class=\"row_heading level0 row3\" >manufacturer</th>\n",
       "      <td id=\"T_251d7_row3_col0\" class=\"data row3 col0\" >0</td>\n",
       "      <td id=\"T_251d7_row3_col1\" class=\"data row3 col1\" >0%</td>\n",
       "      <td id=\"T_251d7_row3_col2\" class=\"data row3 col2\" >object</td>\n",
       "    </tr>\n",
       "    <tr>\n",
       "      <th id=\"T_251d7_level0_row4\" class=\"row_heading level0 row4\" >odometer</th>\n",
       "      <td id=\"T_251d7_row4_col0\" class=\"data row4 col0\" >1837</td>\n",
       "      <td id=\"T_251d7_row4_col1\" class=\"data row4 col1\" >18%</td>\n",
       "      <td id=\"T_251d7_row4_col2\" class=\"data row4 col2\" >float64</td>\n",
       "    </tr>\n",
       "    <tr>\n",
       "      <th id=\"T_251d7_level0_row5\" class=\"row_heading level0 row5\" >price</th>\n",
       "      <td id=\"T_251d7_row5_col0\" class=\"data row5 col0\" >0</td>\n",
       "      <td id=\"T_251d7_row5_col1\" class=\"data row5 col1\" >0%</td>\n",
       "      <td id=\"T_251d7_row5_col2\" class=\"data row5 col2\" >int64</td>\n",
       "    </tr>\n",
       "    <tr>\n",
       "      <th id=\"T_251d7_level0_row6\" class=\"row_heading level0 row6\" >state</th>\n",
       "      <td id=\"T_251d7_row6_col0\" class=\"data row6 col0\" >0</td>\n",
       "      <td id=\"T_251d7_row6_col1\" class=\"data row6 col1\" >0%</td>\n",
       "      <td id=\"T_251d7_row6_col2\" class=\"data row6 col2\" >object</td>\n",
       "    </tr>\n",
       "    <tr>\n",
       "      <th id=\"T_251d7_level0_row7\" class=\"row_heading level0 row7\" >transmission</th>\n",
       "      <td id=\"T_251d7_row7_col0\" class=\"data row7 col0\" >0</td>\n",
       "      <td id=\"T_251d7_row7_col1\" class=\"data row7 col1\" >0%</td>\n",
       "      <td id=\"T_251d7_row7_col2\" class=\"data row7 col2\" >object</td>\n",
       "    </tr>\n",
       "    <tr>\n",
       "      <th id=\"T_251d7_level0_row8\" class=\"row_heading level0 row8\" >type</th>\n",
       "      <td id=\"T_251d7_row8_col0\" class=\"data row8 col0\" >1454</td>\n",
       "      <td id=\"T_251d7_row8_col1\" class=\"data row8 col1\" >14%</td>\n",
       "      <td id=\"T_251d7_row8_col2\" class=\"data row8 col2\" >object</td>\n",
       "    </tr>\n",
       "    <tr>\n",
       "      <th id=\"T_251d7_level0_row9\" class=\"row_heading level0 row9\" >year</th>\n",
       "      <td id=\"T_251d7_row9_col0\" class=\"data row9 col0\" >0</td>\n",
       "      <td id=\"T_251d7_row9_col1\" class=\"data row9 col1\" >0%</td>\n",
       "      <td id=\"T_251d7_row9_col2\" class=\"data row9 col2\" >int64</td>\n",
       "    </tr>\n",
       "  </tbody>\n",
       "</table>\n"
      ]
     },
     "metadata": {},
     "output_type": "display_data"
    }
   ],
   "source": [
    "display_null_dataframes_side_by_side(craigslist_raw, craigslist)"
   ]
  },
  {
   "cell_type": "markdown",
   "id": "cfe22a7d",
   "metadata": {},
   "source": [
    "So far, we have been able to:\n",
    "- Reduce the missing values in the `cylinders` and `type` columns by 13%.\n",
    "- Fill in all of the missing values in the `year` column except one row which was dropped. \n",
    "\n",
    "We accomplished all of this while only removing 724 rows of data.\n",
    "\n",
    "There is still too much missing data to build a predictive model, and dropping the missing data will greatly affect the quality of our model. Let's see if we can find a way to fill in the missing data with some statistics and the `manufacturer` column. \n",
    "\n",
    "##### Removing Outliers\n",
    "\n",
    "Before we can impute the missing values, we need to make sure that the outliers are removed. This will ensure that the imputed values are not influenced by the outliers.\n",
    "\n",
    "The following columns will be checked for outliers: \n",
    "- `price`\n",
    "- `odometer`\n",
    "- `year`"
   ]
  },
  {
   "cell_type": "code",
   "execution_count": 6,
   "id": "1a779fd6",
   "metadata": {},
   "outputs": [
    {
     "data": {
      "text/html": [
       "<div>\n",
       "<style scoped>\n",
       "    .dataframe tbody tr th:only-of-type {\n",
       "        vertical-align: middle;\n",
       "    }\n",
       "\n",
       "    .dataframe tbody tr th {\n",
       "        vertical-align: top;\n",
       "    }\n",
       "\n",
       "    .dataframe thead th {\n",
       "        text-align: right;\n",
       "    }\n",
       "</style>\n",
       "<table border=\"1\" class=\"dataframe\">\n",
       "  <thead>\n",
       "    <tr style=\"text-align: right;\">\n",
       "      <th></th>\n",
       "      <th>price</th>\n",
       "      <th>year</th>\n",
       "      <th>odometer</th>\n",
       "    </tr>\n",
       "  </thead>\n",
       "  <tbody>\n",
       "    <tr>\n",
       "      <th>count</th>\n",
       "      <td>10233.00</td>\n",
       "      <td>10233.00</td>\n",
       "      <td>8396.00</td>\n",
       "    </tr>\n",
       "    <tr>\n",
       "      <th>mean</th>\n",
       "      <td>322068.15</td>\n",
       "      <td>2010.03</td>\n",
       "      <td>99965.40</td>\n",
       "    </tr>\n",
       "    <tr>\n",
       "      <th>std</th>\n",
       "      <td>31312660.23</td>\n",
       "      <td>8.27</td>\n",
       "      <td>79611.98</td>\n",
       "    </tr>\n",
       "    <tr>\n",
       "      <th>min</th>\n",
       "      <td>0.00</td>\n",
       "      <td>1927.00</td>\n",
       "      <td>0.00</td>\n",
       "    </tr>\n",
       "    <tr>\n",
       "      <th>25%</th>\n",
       "      <td>4300.00</td>\n",
       "      <td>2007.00</td>\n",
       "      <td>48901.00</td>\n",
       "    </tr>\n",
       "    <tr>\n",
       "      <th>50%</th>\n",
       "      <td>9500.00</td>\n",
       "      <td>2012.00</td>\n",
       "      <td>94224.00</td>\n",
       "    </tr>\n",
       "    <tr>\n",
       "      <th>75%</th>\n",
       "      <td>17750.00</td>\n",
       "      <td>2015.00</td>\n",
       "      <td>137087.50</td>\n",
       "    </tr>\n",
       "    <tr>\n",
       "      <th>max</th>\n",
       "      <td>3167547323.00</td>\n",
       "      <td>2020.00</td>\n",
       "      <td>3000051.00</td>\n",
       "    </tr>\n",
       "  </tbody>\n",
       "</table>\n",
       "</div>"
      ],
      "text/plain": [
       "               price      year    odometer\n",
       "count       10233.00  10233.00     8396.00\n",
       "mean       322068.15   2010.03    99965.40\n",
       "std      31312660.23      8.27    79611.98\n",
       "min             0.00   1927.00        0.00\n",
       "25%          4300.00   2007.00    48901.00\n",
       "50%          9500.00   2012.00    94224.00\n",
       "75%         17750.00   2015.00   137087.50\n",
       "max    3167547323.00   2020.00  3000051.00"
      ]
     },
     "execution_count": 6,
     "metadata": {},
     "output_type": "execute_result"
    }
   ],
   "source": [
    "craigslist.describe().apply(lambda x: x.apply('{0:.2f}'.format))"
   ]
  },
  {
   "cell_type": "markdown",
   "id": "99144c2f",
   "metadata": {},
   "source": [
    "As you can see above, the `price` and `odometer` columns have minimum values equal to zero and maximum values that are not likely. Therefore, we will remove:\n",
    "- any row with a `price` less than \\$1000 or a price above $100,000\n",
    "- any row with an `odometer` value less than 10,000 miles or above 300,000 miles. \n",
    "\n",
    "This will remove any listing that is most likely a scam. \n",
    "\n",
    "For the `year` column, we will remove cars that were made before 1985."
   ]
  },
  {
   "cell_type": "code",
   "execution_count": 7,
   "id": "a9c3bf4f",
   "metadata": {},
   "outputs": [
    {
     "name": "stdout",
     "output_type": "stream",
     "text": [
      "BEFORE REMOVING OUTLIERS\n",
      "------------------------\n",
      "Number of rows in dataset: 10233\n",
      "Percent of data from original dataset removed: 5.21%\n",
      "\n",
      "\n",
      "AFTER REMOVING OUTLIERS\n",
      "------------------------\n",
      "Number of rows in dataset: 7169\n",
      "Percent of data from original dataset removed: 33.59%\n"
     ]
    }
   ],
   "source": [
    "print('BEFORE REMOVING OUTLIERS')\n",
    "print('------------------------')\n",
    "print(\"Number of rows in dataset:\", craigslist.shape[0])\n",
    "print(f'Percent of data from original dataset removed: {round((craigslist_raw.shape[0] - craigslist.shape[0])/craigslist_raw.shape[0]*100, 2)}%\\n\\n')\n",
    "\n",
    "craigslist = craigslist[craigslist[\"price\"].between(1000, 500000, inclusive=\"neither\")]\n",
    "craigslist = craigslist[craigslist[\"odometer\"].between(10000.0, 300000.0, inclusive=\"neither\")]\n",
    "craigslist = craigslist[craigslist[\"year\"] > 1985]\n",
    "\n",
    "print('AFTER REMOVING OUTLIERS')\n",
    "print('------------------------')\n",
    "print(\"Number of rows in dataset:\", craigslist.shape[0])\n",
    "print(f'Percent of data from original dataset removed: {round((craigslist_raw.shape[0] - craigslist.shape[0])/craigslist_raw.shape[0]*100, 2)}%')"
   ]
  },
  {
   "cell_type": "markdown",
   "id": "76cc99c0",
   "metadata": {},
   "source": [
    "As seen above about 28% of our data was likely a scam, incorrectly inputed data, or data corruption. This is why car buyers should be careful when purchasing cars on craigslist.\n",
    "\n",
    "##### Imputing Missing Values \n",
    "\n",
    "For the following categorical columns, we will use the mode of the columns grouped by the `manufacturer` column to impute the missing values:\n",
    "- `cylinders`\n",
    "    -  teslas have no cylinders so we will impute them with 0\n",
    "- `drive`\n",
    "- `type`\n",
    "\n",
    "This will gives us the most frequent value for each manufacturer for the columns above.\n",
    "\n",
    "For the `odometer` column, we will use the median of the column to impute the missing values."
   ]
  },
  {
   "cell_type": "code",
   "execution_count": 8,
   "id": "15d66b43",
   "metadata": {},
   "outputs": [],
   "source": [
    "impute_cylinders_with_mode(craigslist)\n",
    "\n",
    "impute_drive_with_mode(craigslist)\n",
    "\n",
    "impute_type_with_mode(craigslist)\n",
    "\n",
    "impute_odometer_with_median(craigslist)"
   ]
  },
  {
   "cell_type": "code",
   "execution_count": 9,
   "id": "8c3e1c38",
   "metadata": {},
   "outputs": [
    {
     "data": {
      "text/html": [
       "<div>\n",
       "<style scoped>\n",
       "    .dataframe tbody tr th:only-of-type {\n",
       "        vertical-align: middle;\n",
       "    }\n",
       "\n",
       "    .dataframe tbody tr th {\n",
       "        vertical-align: top;\n",
       "    }\n",
       "\n",
       "    .dataframe thead th {\n",
       "        text-align: right;\n",
       "    }\n",
       "</style>\n",
       "<table border=\"1\" class=\"dataframe\">\n",
       "  <thead>\n",
       "    <tr style=\"text-align: right;\">\n",
       "      <th></th>\n",
       "      <th>null_counts</th>\n",
       "      <th>null_pct</th>\n",
       "      <th>data_types</th>\n",
       "    </tr>\n",
       "  </thead>\n",
       "  <tbody>\n",
       "    <tr>\n",
       "      <th>cylinders</th>\n",
       "      <td>0</td>\n",
       "      <td>0%</td>\n",
       "      <td>int64</td>\n",
       "    </tr>\n",
       "    <tr>\n",
       "      <th>drive</th>\n",
       "      <td>0</td>\n",
       "      <td>0%</td>\n",
       "      <td>object</td>\n",
       "    </tr>\n",
       "    <tr>\n",
       "      <th>fuel</th>\n",
       "      <td>0</td>\n",
       "      <td>0%</td>\n",
       "      <td>object</td>\n",
       "    </tr>\n",
       "    <tr>\n",
       "      <th>manufacturer</th>\n",
       "      <td>0</td>\n",
       "      <td>0%</td>\n",
       "      <td>object</td>\n",
       "    </tr>\n",
       "    <tr>\n",
       "      <th>odometer</th>\n",
       "      <td>0</td>\n",
       "      <td>0%</td>\n",
       "      <td>int64</td>\n",
       "    </tr>\n",
       "    <tr>\n",
       "      <th>price</th>\n",
       "      <td>0</td>\n",
       "      <td>0%</td>\n",
       "      <td>int64</td>\n",
       "    </tr>\n",
       "    <tr>\n",
       "      <th>state</th>\n",
       "      <td>0</td>\n",
       "      <td>0%</td>\n",
       "      <td>object</td>\n",
       "    </tr>\n",
       "    <tr>\n",
       "      <th>transmission</th>\n",
       "      <td>0</td>\n",
       "      <td>0%</td>\n",
       "      <td>object</td>\n",
       "    </tr>\n",
       "    <tr>\n",
       "      <th>type</th>\n",
       "      <td>0</td>\n",
       "      <td>0%</td>\n",
       "      <td>object</td>\n",
       "    </tr>\n",
       "    <tr>\n",
       "      <th>year</th>\n",
       "      <td>0</td>\n",
       "      <td>0%</td>\n",
       "      <td>int64</td>\n",
       "    </tr>\n",
       "  </tbody>\n",
       "</table>\n",
       "</div>"
      ],
      "text/plain": [
       "              null_counts null_pct data_types\n",
       "cylinders               0       0%      int64\n",
       "drive                   0       0%     object\n",
       "fuel                    0       0%     object\n",
       "manufacturer            0       0%     object\n",
       "odometer                0       0%      int64\n",
       "price                   0       0%      int64\n",
       "state                   0       0%     object\n",
       "transmission            0       0%     object\n",
       "type                    0       0%     object\n",
       "year                    0       0%      int64"
      ]
     },
     "execution_count": 9,
     "metadata": {},
     "output_type": "execute_result"
    }
   ],
   "source": [
    "craigslist_null_values = explore_null_values(craigslist)\n",
    "craigslist_null_values"
   ]
  },
  {
   "cell_type": "markdown",
   "id": "ca42910a",
   "metadata": {},
   "source": [
    "Now we have a fully cleaned dataset that can be explored and used for predictive modeling.\n",
    "\n",
    "## Exploring the Data\n",
    "\n",
    "Intuitively, the columns that may be the most useful for our model are:\n",
    "- `year`: The newer the car, the more likely the price is to be higher.\n",
    "- `odometer`: The lower the odometer, the more likely the price is to be higher.\n",
    "- `cylinders`: The higher the cylinder, the more likely the price is to be higher.\n",
    "- `state`: There may be regional differences in the prices of cars.\n",
    "\n",
    "These are the columns that we will explore in the following sections.\n",
    "\n",
    "### Price by Year\n"
   ]
  },
  {
   "cell_type": "code",
   "execution_count": 10,
   "id": "155f68e2",
   "metadata": {},
   "outputs": [
    {
     "data": {
      "image/png": "[encoded data removed]",
      "text/plain": [
       "<Figure size 576x432 with 1 Axes>"
      ]
     },
     "metadata": {},
     "output_type": "display_data"
    }
   ],
   "source": [
    "year_gb = craigslist.groupby(\"year\")[\"price\"].mean()\n",
    "plot_line_chart(\n",
    "    year_gb, \n",
    "    title='The Newer the Car, the Higher the Price',\n",
    "    subtitle='Average Price by Car Year',\n",
    "    x_label='Year', \n",
    "    y_label='Price',\n",
    "    x_text=1979,\n",
    "    y1_text=36000,\n",
    "    y2_text=34000\n",
    "    )"
   ]
  },
  {
   "cell_type": "markdown",
   "id": "3e07fc47",
   "metadata": {},
   "source": [
    "### Price by Odometer Reading"
   ]
  },
  {
   "cell_type": "code",
   "execution_count": 11,
   "id": "56319ed2",
   "metadata": {},
   "outputs": [
    {
     "data": {
      "image/png": "[encoded data removed]",
      "text/plain": [
       "<Figure size 576x432 with 1 Axes>"
      ]
     },
     "metadata": {},
     "output_type": "display_data"
    }
   ],
   "source": [
    "plot_histogram(\n",
    "    craigslist['odometer'],\n",
    "    title='Odometer Readings are Right Skewed and Cluster Around 100,000 Miles',\n",
    "    subtitle='Distribution of Odometer Reading',\n",
    "    x_label='Odometer Reading',\n",
    "    y_label='Frequency',\n",
    "    x_text=-40000,\n",
    "    y1_text=1500,\n",
    "    y2_text=1420\n",
    "    )"
   ]
  },
  {
   "cell_type": "code",
   "execution_count": 12,
   "id": "34a915f1",
   "metadata": {},
   "outputs": [
    {
     "data": {
      "image/png": "[encoded data removed]",
      "text/plain": [
       "<Figure size 576x432 with 1 Axes>"
      ]
     },
     "metadata": {},
     "output_type": "display_data"
    }
   ],
   "source": [
    "plot_scatter_plot(\n",
    "    craigslist,\n",
    "    x_axis='odometer',\n",
    "    y_axis='price',\n",
    "    title='Car Price Decreases with Increasing Odometer Reading',\n",
    "    subtitle='Price by Odometer Reading',\n",
    "    x_label='Odometer Reading',\n",
    "    y_label='Price',\n",
    "    x_text=-45000,\n",
    "    y1_text=108000,\n",
    "    y2_text=102000,\n",
    ")\n"
   ]
  },
  {
   "cell_type": "markdown",
   "id": "f6b3a043",
   "metadata": {},
   "source": [
    "### Price by Cylinders"
   ]
  },
  {
   "cell_type": "code",
   "execution_count": 13,
   "id": "ea80d476",
   "metadata": {},
   "outputs": [
    {
     "data": {
      "text/plain": [
       "Text(0, 0.5, 'Average Price')"
      ]
     },
     "execution_count": 13,
     "metadata": {},
     "output_type": "execute_result"
    },
    {
     "data": {
      "image/png": "[encoded data removed]",
      "text/plain": [
       "<Figure size 576x432 with 1 Axes>"
      ]
     },
     "metadata": {},
     "output_type": "display_data"
    }
   ],
   "source": [
    "cylinder_gb = craigslist.groupby(\"cylinders\")[\"price\"].mean().astype(int)\n",
    "ax = cylinder_gb.plot.bar(figsize=(8,6))\n",
    "# Title\n",
    "ax.text(x=-1, y=70000, s='Electric Cars are More Expensive than Gas Cars', fontsize=16, weight=\"bold\")\n",
    "# Subtitle\n",
    "ax.text(x=-1, y=66000, s=\"Of Gas Cars, 8 Cylinder are on Average More Expensive\", fontsize=15)\n",
    "plt.xlabel('Number of Cylinders')\n",
    "plt.ylabel('Average Price')\n"
   ]
  },
  {
   "cell_type": "markdown",
   "id": "b6325914",
   "metadata": {},
   "source": [
    "### Price by State"
   ]
  },
  {
   "cell_type": "code",
   "execution_count": 14,
   "id": "afc00b77",
   "metadata": {
    "scrolled": true
   },
   "outputs": [
    {
     "data": {
      "application/vnd.plotly.v1+json": {
       "config": {
        "plotlyServerURL": "https://plot.ly"
       },
       "data": [
        {
         "coloraxis": "coloraxis",
         "geo": "geo",
         "hovertemplate": "state=%{location}<br>price=%{z}<extra></extra>",
         "locationmode": "USA-states",
         "locations": [
          "AK",
          "AL",
          "AR",
          "AZ",
          "CA",
          "CO",
          "CT",
          "DC",
          "DE",
          "FL",
          "GA",
          "HI",
          "IA",
          "ID",
          "IL",
          "IN",
          "KS",
          "KY",
          "LA",
          "MA",
          "MD",
          "ME",
          "MI",
          "MN",
          "MO",
          "MS",
          "MT",
          "NC",
          "ND",
          "NE",
          "NH",
          "NJ",
          "NM",
          "NV",
          "NY",
          "OH",
          "OK",
          "OR",
          "PA",
          "RI",
          "SC",
          "SD",
          "TN",
          "TX",
          "UT",
          "VA",
          "VT",
          "WA",
          "WI",
          "WV",
          "WY"
         ],
         "name": "",
         "type": "choropleth",
         "z": [
          19352.70588235294,
          14798.080357142857,
          17625.1875,
          13211.444444444445,
          14653.640167364018,
          16672.36224489796,
          10446.626262626263,
          11330.142857142857,
          9494.695652173914,
          15064.50097465887,
          12857.39,
          17102.98305084746,
          12742.550898203594,
          19893.647435897437,
          12358.625954198473,
          13142.78125,
          15144.455445544554,
          13125.034482758621,
          12245.5,
          11905.261744966443,
          14788.75,
          13087.921052631578,
          12573.229813664597,
          13094.272727272728,
          15248.159574468085,
          15780.612903225807,
          20134.90361445783,
          14011.033898305084,
          21645.866666666665,
          13321.2,
          11978.803921568628,
          10577.478571428572,
          12842.37037037037,
          14490.146341463415,
          12170.588850174216,
          10998.576642335767,
          16036.369047619048,
          15403.22097378277,
          11839.707317073171,
          12520.585365853658,
          15331.900826446281,
          13453.258064516129,
          14346.702222222222,
          15540.022988505747,
          14307.555555555555,
          10398.142857142857,
          14622.211538461539,
          19519.165178571428,
          14080.148471615721,
          18185.266666666666,
          29005.81818181818
         ]
        }
       ],
       "layout": {
        "coloraxis": {
         "colorbar": {
          "title": {
           "text": "price"
          }
         },
         "colorscale": [
          [
           0,
           "#fde725"
          ],
          [
           0.1111111111111111,
           "#b5de2b"
          ],
          [
           0.2222222222222222,
           "#6ece58"
          ],
          [
           0.3333333333333333,
           "#35b779"
          ],
          [
           0.4444444444444444,
           "#1f9e89"
          ],
          [
           0.5555555555555556,
           "#26828e"
          ],
          [
           0.6666666666666666,
           "#31688e"
          ],
          [
           0.7777777777777778,
           "#3e4989"
          ],
          [
           0.8888888888888888,
           "#482878"
          ],
          [
           1,
           "#440154"
          ]
         ]
        },
        "geo": {
         "center": {},
         "domain": {
          "x": [
           0,
           1
          ],
          "y": [
           0,
           1
          ]
         },
         "scope": "usa"
        },
        "legend": {
         "tracegroupgap": 0
        },
        "margin": {
         "t": 60
        },
        "template": {
         "data": {
          "bar": [
           {
            "error_x": {
             "color": "#2a3f5f"
            },
            "error_y": {
             "color": "#2a3f5f"
            },
            "marker": {
             "line": {
              "color": "#E5ECF6",
              "width": 0.5
             },
             "pattern": {
              "fillmode": "overlay",
              "size": 10,
              "solidity": 0.2
             }
            },
            "type": "bar"
           }
          ],
          "barpolar": [
           {
            "marker": {
             "line": {
              "color": "#E5ECF6",
              "width": 0.5
             },
             "pattern": {
              "fillmode": "overlay",
              "size": 10,
              "solidity": 0.2
             }
            },
            "type": "barpolar"
           }
          ],
          "carpet": [
           {
            "aaxis": {
             "endlinecolor": "#2a3f5f",
             "gridcolor": "white",
             "linecolor": "white",
             "minorgridcolor": "white",
             "startlinecolor": "#2a3f5f"
            },
            "baxis": {
             "endlinecolor": "#2a3f5f",
             "gridcolor": "white",
             "linecolor": "white",
             "minorgridcolor": "white",
             "startlinecolor": "#2a3f5f"
            },
            "type": "carpet"
           }
          ],
          "choropleth": [
           {
            "colorbar": {
             "outlinewidth": 0,
             "ticks": ""
            },
            "type": "choropleth"
           }
          ],
          "contour": [
           {
            "colorbar": {
             "outlinewidth": 0,
             "ticks": ""
            },
            "colorscale": [
             [
              0,
              "#0d0887"
             ],
             [
              0.1111111111111111,
              "#46039f"
             ],
             [
              0.2222222222222222,
              "#7201a8"
             ],
             [
              0.3333333333333333,
              "#9c179e"
             ],
             [
              0.4444444444444444,
              "#bd3786"
             ],
             [
              0.5555555555555556,
              "#d8576b"
             ],
             [
              0.6666666666666666,
              "#ed7953"
             ],
             [
              0.7777777777777778,
              "#fb9f3a"
             ],
             [
              0.8888888888888888,
              "#fdca26"
             ],
             [
              1,
              "#f0f921"
             ]
            ],
            "type": "contour"
           }
          ],
          "contourcarpet": [
           {
            "colorbar": {
             "outlinewidth": 0,
             "ticks": ""
            },
            "type": "contourcarpet"
           }
          ],
          "heatmap": [
           {
            "colorbar": {
             "outlinewidth": 0,
             "ticks": ""
            },
            "colorscale": [
             [
              0,
              "#0d0887"
             ],
             [
              0.1111111111111111,
              "#46039f"
             ],
             [
              0.2222222222222222,
              "#7201a8"
             ],
             [
              0.3333333333333333,
              "#9c179e"
             ],
             [
              0.4444444444444444,
              "#bd3786"
             ],
             [
              0.5555555555555556,
              "#d8576b"
             ],
             [
              0.6666666666666666,
              "#ed7953"
             ],
             [
              0.7777777777777778,
              "#fb9f3a"
             ],
             [
              0.8888888888888888,
              "#fdca26"
             ],
             [
              1,
              "#f0f921"
             ]
            ],
            "type": "heatmap"
           }
          ],
          "heatmapgl": [
           {
            "colorbar": {
             "outlinewidth": 0,
             "ticks": ""
            },
            "colorscale": [
             [
              0,
              "#0d0887"
             ],
             [
              0.1111111111111111,
              "#46039f"
             ],
             [
              0.2222222222222222,
              "#7201a8"
             ],
             [
              0.3333333333333333,
              "#9c179e"
             ],
             [
              0.4444444444444444,
              "#bd3786"
             ],
             [
              0.5555555555555556,
              "#d8576b"
             ],
             [
              0.6666666666666666,
              "#ed7953"
             ],
             [
              0.7777777777777778,
              "#fb9f3a"
             ],
             [
              0.8888888888888888,
              "#fdca26"
             ],
             [
              1,
              "#f0f921"
             ]
            ],
            "type": "heatmapgl"
           }
          ],
          "histogram": [
           {
            "marker": {
             "pattern": {
              "fillmode": "overlay",
              "size": 10,
              "solidity": 0.2
             }
            },
            "type": "histogram"
           }
          ],
          "histogram2d": [
           {
            "colorbar": {
             "outlinewidth": 0,
             "ticks": ""
            },
            "colorscale": [
             [
              0,
              "#0d0887"
             ],
             [
              0.1111111111111111,
              "#46039f"
             ],
             [
              0.2222222222222222,
              "#7201a8"
             ],
             [
              0.3333333333333333,
              "#9c179e"
             ],
             [
              0.4444444444444444,
              "#bd3786"
             ],
             [
              0.5555555555555556,
              "#d8576b"
             ],
             [
              0.6666666666666666,
              "#ed7953"
             ],
             [
              0.7777777777777778,
              "#fb9f3a"
             ],
             [
              0.8888888888888888,
              "#fdca26"
             ],
             [
              1,
              "#f0f921"
             ]
            ],
            "type": "histogram2d"
           }
          ],
          "histogram2dcontour": [
           {
            "colorbar": {
             "outlinewidth": 0,
             "ticks": ""
            },
            "colorscale": [
             [
              0,
              "#0d0887"
             ],
             [
              0.1111111111111111,
              "#46039f"
             ],
             [
              0.2222222222222222,
              "#7201a8"
             ],
             [
              0.3333333333333333,
              "#9c179e"
             ],
             [
              0.4444444444444444,
              "#bd3786"
             ],
             [
              0.5555555555555556,
              "#d8576b"
             ],
             [
              0.6666666666666666,
              "#ed7953"
             ],
             [
              0.7777777777777778,
              "#fb9f3a"
             ],
             [
              0.8888888888888888,
              "#fdca26"
             ],
             [
              1,
              "#f0f921"
             ]
            ],
            "type": "histogram2dcontour"
           }
          ],
          "mesh3d": [
           {
            "colorbar": {
             "outlinewidth": 0,
             "ticks": ""
            },
            "type": "mesh3d"
           }
          ],
          "parcoords": [
           {
            "line": {
             "colorbar": {
              "outlinewidth": 0,
              "ticks": ""
             }
            },
            "type": "parcoords"
           }
          ],
          "pie": [
           {
            "automargin": true,
            "type": "pie"
           }
          ],
          "scatter": [
           {
            "fillpattern": {
             "fillmode": "overlay",
             "size": 10,
             "solidity": 0.2
            },
            "type": "scatter"
           }
          ],
          "scatter3d": [
           {
            "line": {
             "colorbar": {
              "outlinewidth": 0,
              "ticks": ""
             }
            },
            "marker": {
             "colorbar": {
              "outlinewidth": 0,
              "ticks": ""
             }
            },
            "type": "scatter3d"
           }
          ],
          "scattercarpet": [
           {
            "marker": {
             "colorbar": {
              "outlinewidth": 0,
              "ticks": ""
             }
            },
            "type": "scattercarpet"
           }
          ],
          "scattergeo": [
           {
            "marker": {
             "colorbar": {
              "outlinewidth": 0,
              "ticks": ""
             }
            },
            "type": "scattergeo"
           }
          ],
          "scattergl": [
           {
            "marker": {
             "colorbar": {
              "outlinewidth": 0,
              "ticks": ""
             }
            },
            "type": "scattergl"
           }
          ],
          "scattermapbox": [
           {
            "marker": {
             "colorbar": {
              "outlinewidth": 0,
              "ticks": ""
             }
            },
            "type": "scattermapbox"
           }
          ],
          "scatterpolar": [
           {
            "marker": {
             "colorbar": {
              "outlinewidth": 0,
              "ticks": ""
             }
            },
            "type": "scatterpolar"
           }
          ],
          "scatterpolargl": [
           {
            "marker": {
             "colorbar": {
              "outlinewidth": 0,
              "ticks": ""
             }
            },
            "type": "scatterpolargl"
           }
          ],
          "scatterternary": [
           {
            "marker": {
             "colorbar": {
              "outlinewidth": 0,
              "ticks": ""
             }
            },
            "type": "scatterternary"
           }
          ],
          "surface": [
           {
            "colorbar": {
             "outlinewidth": 0,
             "ticks": ""
            },
            "colorscale": [
             [
              0,
              "#0d0887"
             ],
             [
              0.1111111111111111,
              "#46039f"
             ],
             [
              0.2222222222222222,
              "#7201a8"
             ],
             [
              0.3333333333333333,
              "#9c179e"
             ],
             [
              0.4444444444444444,
              "#bd3786"
             ],
             [
              0.5555555555555556,
              "#d8576b"
             ],
             [
              0.6666666666666666,
              "#ed7953"
             ],
             [
              0.7777777777777778,
              "#fb9f3a"
             ],
             [
              0.8888888888888888,
              "#fdca26"
             ],
             [
              1,
              "#f0f921"
             ]
            ],
            "type": "surface"
           }
          ],
          "table": [
           {
            "cells": {
             "fill": {
              "color": "#EBF0F8"
             },
             "line": {
              "color": "white"
             }
            },
            "header": {
             "fill": {
              "color": "#C8D4E3"
             },
             "line": {
              "color": "white"
             }
            },
            "type": "table"
           }
          ]
         },
         "layout": {
          "annotationdefaults": {
           "arrowcolor": "#2a3f5f",
           "arrowhead": 0,
           "arrowwidth": 1
          },
          "autotypenumbers": "strict",
          "coloraxis": {
           "colorbar": {
            "outlinewidth": 0,
            "ticks": ""
           }
          },
          "colorscale": {
           "diverging": [
            [
             0,
             "#8e0152"
            ],
            [
             0.1,
             "#c51b7d"
            ],
            [
             0.2,
             "#de77ae"
            ],
            [
             0.3,
             "#f1b6da"
            ],
            [
             0.4,
             "#fde0ef"
            ],
            [
             0.5,
             "#f7f7f7"
            ],
            [
             0.6,
             "#e6f5d0"
            ],
            [
             0.7,
             "#b8e186"
            ],
            [
             0.8,
             "#7fbc41"
            ],
            [
             0.9,
             "#4d9221"
            ],
            [
             1,
             "#276419"
            ]
           ],
           "sequential": [
            [
             0,
             "#0d0887"
            ],
            [
             0.1111111111111111,
             "#46039f"
            ],
            [
             0.2222222222222222,
             "#7201a8"
            ],
            [
             0.3333333333333333,
             "#9c179e"
            ],
            [
             0.4444444444444444,
             "#bd3786"
            ],
            [
             0.5555555555555556,
             "#d8576b"
            ],
            [
             0.6666666666666666,
             "#ed7953"
            ],
            [
             0.7777777777777778,
             "#fb9f3a"
            ],
            [
             0.8888888888888888,
             "#fdca26"
            ],
            [
             1,
             "#f0f921"
            ]
           ],
           "sequentialminus": [
            [
             0,
             "#0d0887"
            ],
            [
             0.1111111111111111,
             "#46039f"
            ],
            [
             0.2222222222222222,
             "#7201a8"
            ],
            [
             0.3333333333333333,
             "#9c179e"
            ],
            [
             0.4444444444444444,
             "#bd3786"
            ],
            [
             0.5555555555555556,
             "#d8576b"
            ],
            [
             0.6666666666666666,
             "#ed7953"
            ],
            [
             0.7777777777777778,
             "#fb9f3a"
            ],
            [
             0.8888888888888888,
             "#fdca26"
            ],
            [
             1,
             "#f0f921"
            ]
           ]
          },
          "colorway": [
           "#636efa",
           "#EF553B",
           "#00cc96",
           "#ab63fa",
           "#FFA15A",
           "#19d3f3",
           "#FF6692",
           "#B6E880",
           "#FF97FF",
           "#FECB52"
          ],
          "font": {
           "color": "#2a3f5f"
          },
          "geo": {
           "bgcolor": "white",
           "lakecolor": "white",
           "landcolor": "#E5ECF6",
           "showlakes": true,
           "showland": true,
           "subunitcolor": "white"
          },
          "hoverlabel": {
           "align": "left"
          },
          "hovermode": "closest",
          "mapbox": {
           "style": "light"
          },
          "paper_bgcolor": "white",
          "plot_bgcolor": "#E5ECF6",
          "polar": {
           "angularaxis": {
            "gridcolor": "white",
            "linecolor": "white",
            "ticks": ""
           },
           "bgcolor": "#E5ECF6",
           "radialaxis": {
            "gridcolor": "white",
            "linecolor": "white",
            "ticks": ""
           }
          },
          "scene": {
           "xaxis": {
            "backgroundcolor": "#E5ECF6",
            "gridcolor": "white",
            "gridwidth": 2,
            "linecolor": "white",
            "showbackground": true,
            "ticks": "",
            "zerolinecolor": "white"
           },
           "yaxis": {
            "backgroundcolor": "#E5ECF6",
            "gridcolor": "white",
            "gridwidth": 2,
            "linecolor": "white",
            "showbackground": true,
            "ticks": "",
            "zerolinecolor": "white"
           },
           "zaxis": {
            "backgroundcolor": "#E5ECF6",
            "gridcolor": "white",
            "gridwidth": 2,
            "linecolor": "white",
            "showbackground": true,
            "ticks": "",
            "zerolinecolor": "white"
           }
          },
          "shapedefaults": {
           "line": {
            "color": "#2a3f5f"
           }
          },
          "ternary": {
           "aaxis": {
            "gridcolor": "white",
            "linecolor": "white",
            "ticks": ""
           },
           "baxis": {
            "gridcolor": "white",
            "linecolor": "white",
            "ticks": ""
           },
           "bgcolor": "#E5ECF6",
           "caxis": {
            "gridcolor": "white",
            "linecolor": "white",
            "ticks": ""
           }
          },
          "title": {
           "x": 0.05
          },
          "xaxis": {
           "automargin": true,
           "gridcolor": "white",
           "linecolor": "white",
           "ticks": "",
           "title": {
            "standoff": 15
           },
           "zerolinecolor": "white",
           "zerolinewidth": 2
          },
          "yaxis": {
           "automargin": true,
           "gridcolor": "white",
           "linecolor": "white",
           "ticks": "",
           "title": {
            "standoff": 15
           },
           "zerolinecolor": "white",
           "zerolinewidth": 2
          }
         }
        },
        "title": {
         "font": {
          "color": "black",
          "size": 20
         },
         "text": "Average Car Price Listing by State",
         "x": 0.5
        }
       }
      }
     },
     "metadata": {},
     "output_type": "display_data"
    }
   ],
   "source": [
    "craigslist['state'] = craigslist['state'].str.upper()\n",
    "state_gb = craigslist.groupby('state')[['price']].mean().reset_index()\n",
    "fig = px.choropleth(\n",
    "    state_gb,\n",
    "    locations='state',\n",
    "    locationmode='USA-states',\n",
    "    scope='usa',\n",
    "    color='price',\n",
    "    color_continuous_scale='Viridis_r'\n",
    ")\n",
    "fig.update_layout(\n",
    "    title_text='Average Car Price Listing by State',\n",
    "    title_font_size=20,\n",
    "    title_font_color='black',\n",
    "    title_x=0.5,\n",
    ")\n",
    "fig.show()"
   ]
  },
  {
   "cell_type": "markdown",
   "id": "64d779b7",
   "metadata": {},
   "source": [
    "In the map above we can see that Wyoming is the state with the highest average car price and that the northwest has higher average car prices than the rest of the country."
   ]
  },
  {
   "cell_type": "markdown",
   "id": "7f2b7ef8",
   "metadata": {},
   "source": [
    "## Developing a Predictive Model for Car Price Listing\n",
    "\n",
    "For our predictive model, we will use a univariate linear regression model. We will use the `year` column since there is a positive correlation between the price of a car and the year it was made."
   ]
  },
  {
   "cell_type": "code",
   "execution_count": 15,
   "id": "f6205e1c",
   "metadata": {},
   "outputs": [
    {
     "data": {
      "text/html": [
       "<div>\n",
       "<style scoped>\n",
       "    .dataframe tbody tr th:only-of-type {\n",
       "        vertical-align: middle;\n",
       "    }\n",
       "\n",
       "    .dataframe tbody tr th {\n",
       "        vertical-align: top;\n",
       "    }\n",
       "\n",
       "    .dataframe thead th {\n",
       "        text-align: right;\n",
       "    }\n",
       "</style>\n",
       "<table border=\"1\" class=\"dataframe\">\n",
       "  <thead>\n",
       "    <tr style=\"text-align: right;\">\n",
       "      <th></th>\n",
       "      <th>year</th>\n",
       "      <th>price</th>\n",
       "    </tr>\n",
       "  </thead>\n",
       "  <tbody>\n",
       "    <tr>\n",
       "      <th>year</th>\n",
       "      <td>1.000000</td>\n",
       "      <td>0.578372</td>\n",
       "    </tr>\n",
       "    <tr>\n",
       "      <th>price</th>\n",
       "      <td>0.578372</td>\n",
       "      <td>1.000000</td>\n",
       "    </tr>\n",
       "  </tbody>\n",
       "</table>\n",
       "</div>"
      ],
      "text/plain": [
       "           year     price\n",
       "year   1.000000  0.578372\n",
       "price  0.578372  1.000000"
      ]
     },
     "execution_count": 15,
     "metadata": {},
     "output_type": "execute_result"
    }
   ],
   "source": [
    "craigslist[['year', 'price']].corr()"
   ]
  },
  {
   "cell_type": "markdown",
   "id": "dfaf4c91",
   "metadata": {},
   "source": [
    "As shown above, the `year` column is moderately correlated with the `price` column. This correlation may indicate that the `year` column is a good predictor for `price`."
   ]
  },
  {
   "cell_type": "code",
   "execution_count": 16,
   "id": "6f51561d",
   "metadata": {},
   "outputs": [
    {
     "name": "stdout",
     "output_type": "stream",
     "text": [
      "Train MSE: 69357004.80453146\n",
      "Train RMSE: 8328.085302428852\n",
      "\n",
      "Test MSE: 65295165.90485783\n",
      "Test RMSE: 8080.54242640046\n"
     ]
    }
   ],
   "source": [
    "train, test = train_test_split(craigslist, test_size=0.2, random_state=1)\n",
    "uni_lr = LinearRegression()\n",
    "uni_lr.fit(train[['year']], train['price'])\n",
    "\n",
    "test['predicted_price'] = uni_lr.predict(test[['year']])\n",
    "train['predicted_price'] = uni_lr.predict(train[['year']])\n",
    "\n",
    "train_mse = mean_squared_error(train['price'], train['predicted_price'])\n",
    "train_rmse = train_mse ** (1/2)\n",
    "\n",
    "test_mse = mean_squared_error(test['price'], test['predicted_price'])\n",
    "test_rmse = test_mse ** (1/2)\n",
    "\n",
    "print(f'Train MSE: {train_mse}')\n",
    "print(f'Train RMSE: {train_rmse}')\n",
    "print()\n",
    "print(f'Test MSE: {test_mse}')\n",
    "print(f'Test RMSE: {test_rmse}')\n"
   ]
  },
  {
   "cell_type": "markdown",
   "id": "9d6f46ef",
   "metadata": {},
   "source": [
    "We can see from the RMSE values above that our model performed better on the test data than on the training data. Given the small amount of data and the moderate correlation of the `year` column this model is unlikely to yield great predictions for the price listing of a car on craigslist. \n",
    "\n",
    "The next steps for improving the model would be:\n",
    "- Encode the categorical variables and use a multivariate linear regression model\n",
    "- Scrape more data from craigslist\n",
    "- Develop more robust cleaning and imputation methods. \n",
    "\n",
    "## Conclusion\n",
    "\n",
    "In this project we analyzed data scraped from craigslist to find meaningful insights about the craigslist car market. We then used these insights to construct a linear regression model to predict the price listing of a car. The most interesting insight we found was that Wyoming has the highest average price for cars. Moreover, our findings showed the expected results, newer cars are more likely to be more expensive than older cars and the lower the odometer, the more likely the price is to be higher."
   ]
  }
 ],
 "metadata": {
  "interpreter": {
   "hash": "f7c38c9fdcfe0ef751209c5dd0b4aee07b4fee0f88fb972bcca640db719a98a1"
  },
  "kernelspec": {
   "display_name": "Python 3 (ipykernel)",
   "language": "python",
   "name": "python3"
  },
  "language_info": {
   "codemirror_mode": {
    "name": "ipython",
    "version": 3
   },
   "file_extension": ".py",
   "mimetype": "text/x-python",
   "name": "python",
   "nbconvert_exporter": "python",
   "pygments_lexer": "ipython3",
   "version": "3.8.12"
  }
 },
 "nbformat": 4,
 "nbformat_minor": 5
}
